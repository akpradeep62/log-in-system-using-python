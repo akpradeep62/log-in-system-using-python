{
  "nbformat": 4,
  "nbformat_minor": 0,
  "metadata": {
    "colab": {
      "name": "pycalculator.ipynb",
      "provenance": []
    },
    "kernelspec": {
      "name": "python3",
      "display_name": "Python 3"
    },
    "language_info": {
      "name": "python"
    }
  },
  "cells": [
    {
      "cell_type": "code",
      "execution_count": 8,
      "metadata": {
        "colab": {
          "base_uri": "https://localhost:8080/"
        },
        "id": "ueF8e0eT3cgV",
        "outputId": "b668ada5-bd03-4a63-dccf-9563ceec87e1"
      },
      "outputs": [
        {
          "output_type": "stream",
          "name": "stdout",
          "text": [
            "1+2\n",
            "3\n"
          ]
        }
      ],
      "source": [
        "#my first calculator\n",
        "\n",
        "def add(a,b): # function for adding\n",
        "  return(int(a)+int(b))\n",
        "def sub(a,b): #function for subraction\n",
        "  return(int(a)-int(b))\n",
        "def mul(): #function for multiplication\n",
        "  return(int(a)*int(b))\n",
        "def division(): #function for division\n",
        "  return(int(a)/int(b))\n",
        "n = input() # getting input from a user\n",
        "cal = []  #storing a inputs from  user\n",
        "for i in n:\n",
        "  cal.append(i) # appending into a list for storing values using loop\n",
        "if \"+\" in cal:\n",
        "  print(add(cal[0],cal[2])) #passing arguments inside a function and printing\n",
        "elif \"-\" in cal:\n",
        "  print(sub(cal[0],cal[2]))\n",
        "elif \"/\" in cal:\n",
        "  print(division(cal[0],cal[2]))\n",
        "elif \"*\" in cal or 'x' in cal :\n",
        "  print(mul(cal[0],cal[2]))\n"
      ]
    }
  ]
}