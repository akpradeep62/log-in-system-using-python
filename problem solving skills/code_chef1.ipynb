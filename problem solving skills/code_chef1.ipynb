{
  "nbformat": 4,
  "nbformat_minor": 0,
  "metadata": {
    "colab": {
      "name": "code chef1.ipynb",
      "provenance": []
    },
    "kernelspec": {
      "name": "python3",
      "display_name": "Python 3"
    },
    "language_info": {
      "name": "python"
    }
  },
  "cells": [
    {
      "cell_type": "code",
      "execution_count": 12,
      "metadata": {
        "colab": {
          "base_uri": "https://localhost:8080/"
        },
        "id": "IwBT4GcPzk9p",
        "outputId": "e6aa3137-9049-401e-c71d-4eab50a84fb3"
      },
      "outputs": [
        {
          "output_type": "stream",
          "name": "stdout",
          "text": [
            "1\n",
            "6 2 3\n",
            "yes\n"
          ]
        }
      ],
      "source": [
        "num = int(input())\n",
        "\n",
        "\n",
        "for i in range(num):\n",
        "  chef = input().split()\n",
        "  total = int(chef[0])\n",
        "  strr = int(chef[1])-(int(chef[2]*2))\n",
        "  if total>strr:\n",
        "    print('NO')\n",
        "  else:\n",
        "    print(\"yes\")\n",
        "\n",
        "\n",
        "# for i in range(int(input())):\n",
        "#     N,X,Y=map(int,input().split())\n",
        "#     if N-X-2*Y>=0:\n",
        "#         print(\"YES\")\n",
        "#     else:\n",
        "#         print(\"NO\")\n",
        "\n"
      ]
    },
    {
      "cell_type": "code",
      "source": [
        "# cook your dish here\n",
        "v = input()\n",
        "for i in range(int(v)):\n",
        "  a = input().split()\n",
        "  b = []\n",
        "  for i in a:\n",
        "    b.append(int(i))\n",
        "  c = b[1]+b[2]\n",
        "  if b[0]>c:\n",
        "    print(\"yes\")\n",
        "  elif b[0]<c:\n",
        "    print(\"no\") "
      ],
      "metadata": {
        "id": "6SMEAh6H3ELS"
      },
      "execution_count": 1,
      "outputs": []
    }
  ]
}