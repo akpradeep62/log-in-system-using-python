{
  "nbformat": 4,
  "nbformat_minor": 0,
  "metadata": {
    "colab": {
      "name": "code chef 2-08-2022.ipynb",
      "provenance": []
    },
    "kernelspec": {
      "name": "python3",
      "display_name": "Python 3"
    },
    "language_info": {
      "name": "python"
    }
  },
  "cells": [
    {
      "cell_type": "code",
      "execution_count": null,
      "metadata": {
        "id": "O-TD-hUj1aek"
      },
      "outputs": [],
      "source": [
        "  #PROBLEM LINK : https://www.codechef.com/submit/HOTCOLD\n",
        "\n",
        "\n",
        "n = int(input())\n",
        "for i in range(n):\n",
        "  temp = int(input())\n",
        "  if temp >20:\n",
        "    print('HOT')\n",
        "  else:\n",
        "    print('COLD')"
      ]
    },
    {
      "cell_type": "code",
      "source": [
        "\n",
        "#problem link : https://www.codechef.com/submit/INSURANCE\n",
        "\n",
        "n = int(input())\n",
        "\n",
        "\n",
        "for i in range(n):\n",
        "  a,b = map(int,input().split())\n",
        "  if (a>b):\n",
        "    print(b)\n",
        "  elif (b>a):\n",
        "    print(a)\n",
        "  elif (a==b):\n",
        "    print(a)"
      ],
      "metadata": {
        "colab": {
          "base_uri": "https://localhost:8080/"
        },
        "id": "noc5B40L2GjU",
        "outputId": "126ad33a-1ebd-410b-f11a-fc8c812de913"
      },
      "execution_count": 3,
      "outputs": [
        {
          "output_type": "stream",
          "name": "stdout",
          "text": [
            "2\n",
            "5 4\n",
            "4\n",
            "13 12\n",
            "12\n"
          ]
        }
      ]
    },
    {
      "cell_type": "code",
      "source": [
        "#problem link : https://www.codechef.com/submit/OFFICE\n",
        "\n",
        "n = int(input())\n",
        "for i in range(n):\n",
        "  hour1,hour2 = map(int,input().split())\n",
        "  print((hour1*4)+hour2)"
      ],
      "metadata": {
        "colab": {
          "base_uri": "https://localhost:8080/"
        },
        "id": "BGGgH99d3VRX",
        "outputId": "8713e328-a73a-4c90-d267-45412321c616"
      },
      "execution_count": 4,
      "outputs": [
        {
          "output_type": "stream",
          "name": "stdout",
          "text": [
            "2\n",
            "10 5\n",
            "45\n",
            "12 2\n",
            "50\n"
          ]
        }
      ]
    },
    {
      "cell_type": "code",
      "source": [
        "#porblem link : https://www.codechef.com/submit/MAXTASTE\n",
        "n = int(input())\n",
        "for i in range(n):\n",
        "  m = input().split()\n",
        "  inc1 = [int(m[0]),int(m[1])]\n",
        "  inc2 = [int(m[2]),int(m[3])]\n",
        "  print(max(inc1)+max(inc2))"
      ],
      "metadata": {
        "colab": {
          "base_uri": "https://localhost:8080/"
        },
        "id": "5o3gTlJ14fP4",
        "outputId": "70883db7-096c-4ccd-b0a3-14d5058c0a2c"
      },
      "execution_count": 11,
      "outputs": [
        {
          "output_type": "stream",
          "name": "stdout",
          "text": [
            "2\n",
            "3 5 6 2\n",
            "11\n",
            "16 15 5 4\n",
            "21\n"
          ]
        }
      ]
    }
  ]
}