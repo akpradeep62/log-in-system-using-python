{
  "nbformat": 4,
  "nbformat_minor": 0,
  "metadata": {
    "colab": {
      "name": "codechef 14-07-2022.ipynb",
      "provenance": []
    },
    "kernelspec": {
      "name": "python3",
      "display_name": "Python 3"
    },
    "language_info": {
      "name": "python"
    }
  },
  "cells": [
    {
      "cell_type": "code",
      "execution_count": 2,
      "metadata": {
        "colab": {
          "base_uri": "https://localhost:8080/"
        },
        "id": "9PXzVALF9CWg",
        "outputId": "017b7a9a-ea58-4eff-f983-8f1a157daf00"
      },
      "outputs": [
        {
          "output_type": "stream",
          "name": "stdout",
          "text": [
            "1\n",
            "50 100\n",
            "NO\n"
          ]
        }
      ],
      "source": [
        "#problem link: https://www.codechef.com/submit/CHEFONDATE\n",
        "\n",
        "n = int(input())\n",
        "\n",
        "for i in range(n):\n",
        "  amt,bill = map(int,input().split())\n",
        "  if (amt>bill) or (amt==bill):\n",
        "    print('YES')\n",
        "  elif amt<bill:\n",
        "    print(\"NO\")\n"
      ]
    },
    {
      "cell_type": "code",
      "source": [
        "#probelm link : https://www.codechef.com/submit/CHESSTIME\n",
        "\n",
        "num = int(input())\n",
        "\n",
        "for i in range(num):\n",
        "  print(int(input())*3)\n"
      ],
      "metadata": {
        "colab": {
          "base_uri": "https://localhost:8080/"
        },
        "id": "GIER7lOK-rUw",
        "outputId": "6937ee3d-772e-4e05-9d09-0b538d836968"
      },
      "execution_count": 3,
      "outputs": [
        {
          "output_type": "stream",
          "name": "stdout",
          "text": [
            "1\n",
            "7\n",
            "21\n"
          ]
        }
      ]
    },
    {
      "cell_type": "code",
      "source": [
        "#problem statement link: https://www.codechef.com/submit/CONN?tab=statement\n",
        "def solution():\n",
        "  n = int(input())\n",
        "  if n==1 or n== 3 or n==5:\n",
        "    print('NO')\n",
        "  else:\n",
        "    print('YES')\n",
        "\n",
        "\n",
        "\n",
        "test = int(input())\n",
        "for i in range(test):\n",
        "  solution()"
      ],
      "metadata": {
        "colab": {
          "base_uri": "https://localhost:8080/"
        },
        "id": "jE_pmw6zdj_k",
        "outputId": "3c6c2b3c-8f1e-4176-fbe0-41fc98e76893"
      },
      "execution_count": 2,
      "outputs": [
        {
          "output_type": "stream",
          "name": "stdout",
          "text": [
            "2\n",
            "2\n",
            "YES\n",
            "5\n",
            "NO\n"
          ]
        }
      ]
    },
    {
      "cell_type": "code",
      "source": [
        "#problem link : https://www.codechef.com/submit/MINCOINSREQ?tab=statement\n",
        "\n",
        "\n",
        "def solution():\n",
        "  z = input()\n",
        "  print(z[-1])\n",
        "\n",
        "\n",
        "n = int(input())\n",
        "\n",
        "while(n>0):\n",
        "  n= n-1\n",
        "  solution()"
      ],
      "metadata": {
        "colab": {
          "base_uri": "https://localhost:8080/"
        },
        "id": "_Bas1VHqBCp9",
        "outputId": "cd232922-ec66-4877-e7e5-281fc98692af"
      },
      "execution_count": 4,
      "outputs": [
        {
          "output_type": "stream",
          "name": "stdout",
          "text": [
            "1\n",
            "100\n",
            "0\n"
          ]
        }
      ]
    },
    {
      "cell_type": "code",
      "source": [
        "#problem statement :https://www.codechef.com/submit/CHEFCAND?tab=statement\n",
        "\n",
        "import math\n",
        "n = int(input())\n",
        "\n",
        "\n",
        "for i in range(n):\n",
        "  child,candy= map(int,input().split())\n",
        "  if candy>child:\n",
        "    print('0')\n",
        "  else:\n",
        "    need_candy = (child-candy)/4\n",
        "    print(math.ceil(need_candy))"
      ],
      "metadata": {
        "colab": {
          "base_uri": "https://localhost:8080/"
        },
        "id": "A5EXisGKCtSW",
        "outputId": "9f4a92b7-dd8d-42c7-d3c1-efd30d51511a"
      },
      "execution_count": 12,
      "outputs": [
        {
          "output_type": "stream",
          "name": "stdout",
          "text": [
            "1\n",
            "10 9\n",
            "1\n"
          ]
        }
      ]
    }
  ]
}