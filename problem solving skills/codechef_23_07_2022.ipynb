{
  "nbformat": 4,
  "nbformat_minor": 0,
  "metadata": {
    "colab": {
      "name": "codechef 23-07-2022.ipynb",
      "provenance": []
    },
    "kernelspec": {
      "name": "python3",
      "display_name": "Python 3"
    },
    "language_info": {
      "name": "python"
    }
  },
  "cells": [
    {
      "cell_type": "code",
      "execution_count": null,
      "metadata": {
        "id": "P9whdZopO20P"
      },
      "outputs": [],
      "source": [
        "#probelem link : https://www.codechef.com/submit/FAIRPASS\n",
        "\n",
        "test = int(input())\n",
        "\n",
        "\n",
        "for i in range(test):\n",
        "  friends,passes = map(int,input().split())\n",
        "  if friends>passes:\n",
        "    print('NO')\n",
        "  elif friends==passes:\n",
        "    print('NO')\n",
        "  else:\n",
        "    print('YES')\n"
      ]
    },
    {
      "cell_type": "code",
      "source": [
        "#probelm link : https://www.codechef.com/submit/INTRDSGN\n",
        "\n",
        "test = int(input())\n",
        "\n",
        "\n",
        "\n",
        "for i in range(test):\n",
        "  x1,y1,x2,y2 = map(int,input().split())\n",
        "  amt1 = (x1+y1)\n",
        "  amt2 = (x2+y2)\n",
        "  if (amt1>amt2):\n",
        "    print(amt2)\n",
        "  elif (amt2>amt1):\n",
        "    print(amt1)\n",
        "  elif (amt2==amt1):\n",
        "    print(amt1)"
      ],
      "metadata": {
        "colab": {
          "base_uri": "https://localhost:8080/"
        },
        "id": "gnnNKYrXQJbw",
        "outputId": "d5546d78-033f-4492-ea06-6995669ecc7a"
      },
      "execution_count": 2,
      "outputs": [
        {
          "output_type": "stream",
          "name": "stdout",
          "text": [
            "2\n",
            "10 20 9 25\n",
            "30\n",
            "10 20 9 20\n",
            "29\n"
          ]
        }
      ]
    },
    {
      "cell_type": "code",
      "source": [
        "#probelm link : https://www.codechef.com/submit/TFPAPER\n",
        "\n",
        "\n",
        "test = int(input())\n",
        "\n",
        "for i in range(test):\n",
        "  mark1 ,mark2 = map(int,input().split())\n",
        "  bobscore = (mark1-mark2)\n",
        "  print(bobscore)\n"
      ],
      "metadata": {
        "colab": {
          "base_uri": "https://localhost:8080/"
        },
        "id": "u3T_R3rtFVUG",
        "outputId": "e1643acf-6da6-4519-915d-cff266c2fa94"
      },
      "execution_count": 2,
      "outputs": [
        {
          "output_type": "stream",
          "name": "stdout",
          "text": [
            "1\n",
            "100 76\n",
            "24\n"
          ]
        }
      ]
    },
    {
      "cell_type": "code",
      "source": [
        "\n"
      ],
      "metadata": {
        "id": "ej0mlQ2yGekc"
      },
      "execution_count": null,
      "outputs": []
    }
  ]
}