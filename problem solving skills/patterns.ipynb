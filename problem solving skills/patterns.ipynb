{
  "nbformat": 4,
  "nbformat_minor": 0,
  "metadata": {
    "colab": {
      "name": "patterns.ipynb",
      "provenance": []
    },
    "kernelspec": {
      "name": "python3",
      "display_name": "Python 3"
    },
    "language_info": {
      "name": "python"
    }
  },
  "cells": [
    {
      "cell_type": "code",
      "execution_count": null,
      "metadata": {
        "colab": {
          "base_uri": "https://localhost:8080/"
        },
        "id": "LZ6JC3gMkwFn",
        "outputId": "d5b8a08f-9b22-4531-a7b1-2665435a82da"
      },
      "outputs": [
        {
          "output_type": "stream",
          "name": "stdout",
          "text": [
            "Enter the number of rows5\n",
            "['*']\n",
            "['*', '*']\n",
            "['*', '*', '*']\n",
            "['*', '*', '*', '*']\n",
            "\n"
          ]
        }
      ],
      "source": [
        "# This is the example of print simple pyramid pattern  \n",
        "n = int(input(\"Enter the number of rows\"))  \n",
        "# outer loop to handle number of rows  \n",
        "ans = []\n",
        "for i in range(n, 0,-1):  \n",
        "    # inner loop to handle number of columns  \n",
        "    # values is changing according to outer loop  \n",
        "        for j in range(0, i):  \n",
        "            # printing stars  \n",
        "            ans.append(\"*\")\n",
        "            print(ans)\n",
        "            \n",
        "        print() \n",
        "        ans.clear()\n",
        "        break"
      ]
    },
    {
      "cell_type": "code",
      "source": [
        "n = input().split()\n",
        "\n",
        "m = []\n",
        "\n"
      ],
      "metadata": {
        "id": "Rxltq7fxf-jV"
      },
      "execution_count": null,
      "outputs": []
    },
    {
      "cell_type": "code",
      "source": [
        "rows = int(input())\n",
        "\n",
        "pt = []\n",
        "\n",
        "for i in range(rows,0,-1):\n",
        "    for j in range(i):\n",
        "      print(i,end=\"\")\n",
        "    print()\n",
        "\n",
        "    "
      ],
      "metadata": {
        "id": "66PHDlUN0nDq",
        "colab": {
          "base_uri": "https://localhost:8080/"
        },
        "outputId": "9fb425d6-106c-42ea-8b40-12664a2bd575"
      },
      "execution_count": null,
      "outputs": [
        {
          "output_type": "stream",
          "name": "stdout",
          "text": [
            "5\n",
            "55555\n",
            "4444\n",
            "333\n",
            "22\n",
            "1\n"
          ]
        }
      ]
    },
    {
      "cell_type": "code",
      "source": [
        "n = int(input())\n",
        "\n",
        "num = 1\n",
        "\n",
        "\n",
        "for i in range(n):\n",
        "  for j in range(i+1):\n",
        "    print(num,end=\"\")\n",
        "    num = num+1\n",
        "  num= 1\n",
        "  print()"
      ],
      "metadata": {
        "colab": {
          "base_uri": "https://localhost:8080/"
        },
        "id": "PuF5FIa7jq21",
        "outputId": "f7d38773-094b-4795-8ec5-e90deeeb4c83"
      },
      "execution_count": null,
      "outputs": [
        {
          "output_type": "stream",
          "name": "stdout",
          "text": [
            "5\n",
            "1\n",
            "12\n",
            "123\n",
            "1234\n",
            "12345\n"
          ]
        }
      ]
    }
  ]
}