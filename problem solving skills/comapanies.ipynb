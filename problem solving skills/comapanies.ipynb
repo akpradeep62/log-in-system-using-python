{
  "nbformat": 4,
  "nbformat_minor": 0,
  "metadata": {
    "colab": {
      "name": "comapanies",
      "provenance": []
    },
    "kernelspec": {
      "name": "python3",
      "display_name": "Python 3"
    },
    "language_info": {
      "name": "python"
    }
  },
  "cells": [
    {
      "cell_type": "code",
      "execution_count": null,
      "metadata": {
        "id": "zARMNrBhrg1b",
        "colab": {
          "base_uri": "https://localhost:8080/"
        },
        "outputId": "a2b74fc3-d027-47ed-b507-1fe37162ebbe"
      },
      "outputs": [
        {
          "output_type": "stream",
          "name": "stdout",
          "text": [
            "3\n",
            "1\n",
            "\n",
            "111\n",
            "\n",
            "11111\n",
            "\n",
            "1111111\n",
            "\n",
            "111111111\n",
            "\n"
          ]
        }
      ],
      "source": [
        "n = int(input())\n",
        "m = []\n",
        "for i in range(10):\n",
        "  if i%2!=0:\n",
        "    m.append(i)\n",
        "\n",
        "for x in m:\n",
        "  for y in range(n-1):\n",
        "    print(\"{}\\n\".format(\"1\"*x))\n",
        "    break\n",
        "  \n"
      ]
    },
    {
      "cell_type": "code",
      "source": [
        "# cook your dish here\n",
        "n = input()\n",
        "\n",
        "cab = []\n",
        "\n",
        "for i in range(1,int(n)):\n",
        "    x = input().split()\n",
        "    cab.extend(x)\n"
      ],
      "metadata": {
        "colab": {
          "base_uri": "https://localhost:8080/"
        },
        "id": "NYoOBNuVZmnI",
        "outputId": "a34fb485-7d78-4a81-f6a9-1e7afe85c43f"
      },
      "execution_count": null,
      "outputs": [
        {
          "name": "stdout",
          "output_type": "stream",
          "text": [
            "3\n",
            "30 60\n",
            "20 60\n"
          ]
        }
      ]
    },
    {
      "cell_type": "code",
      "source": [
        "n = input().split()\n",
        "\n",
        "idx = []\n",
        "\n",
        "val = []\n",
        "\n",
        "for i in range(0,len(n)-1):\n",
        "  idx.append(i)\n",
        "for j in n:\n",
        "  val.append(int(j))\n",
        "\n",
        "for x in idx:\n",
        "  for y in val:\n",
        "    if x == y:\n",
        "      print(x)\n",
        "print(len(n))"
      ],
      "metadata": {
        "colab": {
          "base_uri": "https://localhost:8080/"
        },
        "id": "5aaY_kAZADaz",
        "outputId": "df28ed4b-aa7c-4925-ba21-a7edf337e39f"
      },
      "execution_count": null,
      "outputs": [
        {
          "output_type": "stream",
          "name": "stdout",
          "text": [
            "6 7 3 3 4 5\n",
            "3\n",
            "3\n",
            "4\n",
            "6\n"
          ]
        }
      ]
    },
    {
      "cell_type": "code",
      "source": [
        "n = [6 ,7 ,3, 3, 4, 5]\n",
        "\n",
        "print(n.index(7))"
      ],
      "metadata": {
        "colab": {
          "base_uri": "https://localhost:8080/"
        },
        "id": "7fM3kAesAvOs",
        "outputId": "41fa7c1b-42fa-4e4a-a90a-355a74974fe5"
      },
      "execution_count": null,
      "outputs": [
        {
          "output_type": "stream",
          "name": "stdout",
          "text": [
            "1\n"
          ]
        }
      ]
    },
    {
      "cell_type": "code",
      "source": [
        "n = input().split()\n",
        "n.sort(reverse=True)\n",
        "\n",
        "print(\"->\".join(n))"
      ],
      "metadata": {
        "colab": {
          "base_uri": "https://localhost:8080/"
        },
        "id": "FdZ77OUOxenh",
        "outputId": "9c6cc65d-eac8-4a2a-d7fd-9061a08be742"
      },
      "execution_count": null,
      "outputs": [
        {
          "output_type": "stream",
          "name": "stdout",
          "text": [
            "1 2 3 4 5 6 7\n",
            "7->6->5->4->3->2->1\n"
          ]
        }
      ]
    },
    {
      "cell_type": "code",
      "source": [
        "n = input()\n",
        "string = [i for i in n]\n",
        "string.sort(reverse=False)\n",
        "\n",
        "print(\"\".join(string))\n",
        "\n"
      ],
      "metadata": {
        "colab": {
          "base_uri": "https://localhost:8080/"
        },
        "id": "l_DoaanjzrdE",
        "outputId": "e8e83db3-8b10-40b7-b2c5-9140373312d6"
      },
      "execution_count": null,
      "outputs": [
        {
          "output_type": "stream",
          "name": "stdout",
          "text": [
            "aabbba\n",
            "aaabbb\n"
          ]
        }
      ]
    },
    {
      "cell_type": "code",
      "source": [
        "n = input()\n",
        "\n",
        "vol = ['a','e','i','o','u','A','E','O','I','U']\n",
        "n1 = []\n",
        "n2 = []\n",
        "for i in n:\n",
        "  if i in vol:\n",
        "    n1.append(i)\n",
        "  else:\n",
        "    n2.append(i)\n",
        "n1.extend(n2)\n",
        "print(\"\".join(n1))n = i"
      ],
      "metadata": {
        "colab": {
          "base_uri": "https://localhost:8080/"
        },
        "id": "rX12BBHN0q5n",
        "outputId": "44206141-2b4f-44e5-c9f5-df1c797d1565"
      },
      "execution_count": null,
      "outputs": [
        {
          "output_type": "stream",
          "name": "stdout",
          "text": [
            "GuVI\n",
            "['u', 'I']\n",
            "['G', 'V']\n",
            "uIGV\n"
          ]
        }
      ]
    },
    {
      "cell_type": "code",
      "source": [
        "m = input()\n",
        "n = input().split()\n",
        "lst = []\n",
        "for i in n:\n",
        "  if n.count(i)>1:\n",
        "    if int(i) not in lst:\n",
        "      lst.append(int(i))\n",
        "  else:\n",
        "    continue\n",
        "lst.sort()\n",
        "if sum(lst)>0:\n",
        "  print(*lst)\n",
        "else:\n",
        "  print(\"unique\")"
      ],
      "metadata": {
        "colab": {
          "base_uri": "https://localhost:8080/"
        },
        "id": "vMLAuHfftxck",
        "outputId": "d52915e3-3c86-4d7b-ab46-1c3bb72587dd"
      },
      "execution_count": 2,
      "outputs": [
        {
          "output_type": "stream",
          "name": "stdout",
          "text": [
            "1\n",
            "1 2 3 4 4\n",
            "4\n"
          ]
        }
      ]
    }
  ]
}