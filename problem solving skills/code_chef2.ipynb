{
  "nbformat": 4,
  "nbformat_minor": 0,
  "metadata": {
    "colab": {
      "name": "code chef2.ipynb",
      "provenance": []
    },
    "kernelspec": {
      "name": "python3",
      "display_name": "Python 3"
    },
    "language_info": {
      "name": "python"
    }
  },
  "cells": [
    {
      "cell_type": "code",
      "execution_count": 12,
      "metadata": {
        "colab": {
          "base_uri": "https://localhost:8080/"
        },
        "id": "IwBT4GcPzk9p",
        "outputId": "e6aa3137-9049-401e-c71d-4eab50a84fb3"
      },
      "outputs": [
        {
          "output_type": "stream",
          "name": "stdout",
          "text": [
            "1\n",
            "6 2 3\n",
            "yes\n"
          ]
        }
      ],
      "source": [
        "num = int(input())\n",
        "\n",
        "\n",
        "for i in range(num):\n",
        "  chef = input().split()\n",
        "  total = int(chef[0])\n",
        "  strr = int(chef[1])-(int(chef[2]*2))\n",
        "  if total>strr:\n",
        "    print('NO')\n",
        "  else:\n",
        "    print(\"yes\")\n",
        "\n",
        "\n",
        "# for i in range(int(input())):\n",
        "#     N,X,Y=map(int,input().split())\n",
        "#     if N-X-2*Y>=0:\n",
        "#         print(\"YES\")\n",
        "#     else:\n",
        "#         print(\"NO\")\n",
        "\n"
      ]
    },
    {
      "cell_type": "code",
      "source": [
        "# cook your dish here\n",
        "v = input()\n",
        "for i in range(int(v)):\n",
        "  a = input().split()\n",
        "  b = []\n",
        "  for i in a:\n",
        "    b.append(int(i))\n",
        "  c = b[1]+b[2]\n",
        "  if b[0]>c:\n",
        "    print(\"yes\")\n",
        "  elif b[0]<c:v"
      ],
      "metadata": {
        "id": "6SMEAh6H3ELS"
      },
      "execution_count": 1,
      "outputs": []
    },
    {
      "cell_type": "code",
      "source": [
        "a,b = map(int,input().split())\n",
        "\n",
        "print(a-b)"
      ],
      "metadata": {
        "colab": {
          "base_uri": "https://localhost:8080/"
        },
        "id": "ICvJ0b3JLt9y",
        "outputId": "871ea9df-2713-405c-dd22-9f4463aea621"
      },
      "execution_count": 1,
      "outputs": [
        {
          "output_type": "stream",
          "name": "stdout",
          "text": [
            "1000 990\n",
            "10\n"
          ]
        }
      ]
    },
    {
      "cell_type": "code",
      "source": [
        "t = int(input())\n",
        "\n",
        "\n",
        "for i in range(t):\n",
        "  n = int(input())\n",
        "  if n==0:\n",
        "    print(\"NO\")\n",
        "  elif n>30:\n",
        "    print(\"YES\")\n",
        "  else:\n",
        "    print(\"NO\")"
      ],
      "metadata": {
        "id": "85c9UkAvPb_N"
      },
      "execution_count": null,
      "outputs": []
    },
    {
      "cell_type": "code",
      "source": [
        "n = int(input())\n",
        "\n",
        "\n",
        "\n",
        "for i in range(n):\n",
        "  a,b = map(int,input().split())\n",
        "\n",
        "  if a>b:\n",
        "    print('A')\n",
        "  else:\n",
        "    print('B')"
      ],
      "metadata": {
        "id": "ROz6AiYPQ4xp"
      },
      "execution_count": null,
      "outputs": []
    },
    {
      "cell_type": "code",
      "source": [
        "n = int(input())\n",
        "\n",
        "time = [1,2,3,4]\n",
        "for i in range(n):\n",
        "  n = int(input())\n",
        "  if n in time:\n",
        "    print('YES')\n",
        "  else:\n",
        "    print('NO')"
      ],
      "metadata": {
        "colab": {
          "base_uri": "https://localhost:8080/"
        },
        "id": "1NI37sXktbtb",
        "outputId": "2f376941-fcce-497f-a11a-1b5e9a8564c7"
      },
      "execution_count": 3,
      "outputs": [
        {
          "output_type": "stream",
          "name": "stdout",
          "text": [
            "2\n",
            "1\n",
            "YES\n",
            "7\n",
            "NO\n"
          ]
        }
      ]
    }
  ]
}